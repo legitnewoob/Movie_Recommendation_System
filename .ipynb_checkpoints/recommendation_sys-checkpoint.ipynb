{
 "cells": [
  {
   "cell_type": "code",
   "execution_count": 35,
   "id": "b5c9651b",
   "metadata": {},
   "outputs": [],
   "source": [
    "import pandas as pd\n",
    "from scipy.sparse import csr_matrix\n",
    "from sklearn.neighbors import NearestNeighbors"
   ]
  },
  {
   "cell_type": "code",
   "execution_count": 20,
   "id": "dc49d562",
   "metadata": {},
   "outputs": [],
   "source": [
    "movies = 'movies.csv'\n",
    "ratings = 'ratings.csv'\n",
    "\n",
    "df_movies  =  pd.read_csv(movies , usecols = ['movieId' , 'title'] , dtype={'movieId' : 'int32' , 'title' : 'str'})\n",
    "df_ratings =  pd.read_csv(ratings , usecols=['userId' , 'movieId' , 'rating'] , dtype={'userId' : 'int32' , 'movieId' : 'int32' , 'rating' : 'float32'})"
   ]
  },
  {
   "cell_type": "code",
   "execution_count": 33,
   "id": "44f08e2e",
   "metadata": {},
   "outputs": [],
   "source": [
    "# #Sparse Matrix\n",
    "#    [4 , 4 , 5]\n",
    "#    [3 , 3 , 4]\n",
    "#    [3 , 2 , 1]\n",
    "\n",
    "movies_users = df_ratings.pivot(index = 'movieId' , columns = 'userId' , values = 'rating')\n",
    "mat_movies_users = csr_matrix(movies_users.values)"
   ]
  },
  {
   "cell_type": "code",
   "execution_count": 36,
   "id": "c6086253",
   "metadata": {},
   "outputs": [],
   "source": [
    "#Euclidean Distance\n",
    "model_knn = NearestNeighbors(metric = 'cosine' , alogrithm='brute') "
   ]
  },
  {
   "cell_type": "code",
   "execution_count": null,
   "id": "d47a004b",
   "metadata": {},
   "outputs": [],
   "source": []
  },
  {
   "cell_type": "code",
   "execution_count": null,
   "id": "c97a9640",
   "metadata": {},
   "outputs": [],
   "source": []
  }
 ],
 "metadata": {
  "kernelspec": {
   "display_name": "Python 3 (ipykernel)",
   "language": "python",
   "name": "python3"
  },
  "language_info": {
   "codemirror_mode": {
    "name": "ipython",
    "version": 3
   },
   "file_extension": ".py",
   "mimetype": "text/x-python",
   "name": "python",
   "nbconvert_exporter": "python",
   "pygments_lexer": "ipython3",
   "version": "3.10.9"
  }
 },
 "nbformat": 4,
 "nbformat_minor": 5
}
