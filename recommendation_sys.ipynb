{
 "cells": [
  {
   "cell_type": "code",
   "execution_count": 1,
   "id": "b5c9651b",
   "metadata": {},
   "outputs": [],
   "source": [
    "import pandas as pd\n",
    "from scipy.sparse import csr_matrix\n",
    "from sklearn.neighbors import NearestNeighbors\n",
    "from sklearn.impute import SimpleImputer\n",
    "from fuzzywuzzy import process"
   ]
  },
  {
   "cell_type": "code",
   "execution_count": 2,
   "id": "3fc3f6d5",
   "metadata": {},
   "outputs": [],
   "source": [
    "movies = 'movies.csv'\n",
    "ratings = 'ratings.csv'\n",
    "\n",
    "df_movies  =  pd.read_csv(movies , usecols = ['movieId' , 'title'] , dtype={'movieId' : 'int32' , 'title' : 'str'})\n",
    "df_ratings =  pd.read_csv(ratings , usecols=['userId' , 'movieId' , 'rating'] , dtype={'userId' : 'int32' , 'movieId' : 'int32' , 'rating' : 'float32'})"
   ]
  },
  {
   "cell_type": "code",
   "execution_count": 4,
   "id": "45da0699",
   "metadata": {},
   "outputs": [],
   "source": [
    "# #Sparse Matrix\n",
    "#    [4 , 4 , 5]\n",
    "#    [3 , 3 , 4]\n",
    "#    [3 , 2 , 1]\n",
    "\n",
    "movies_users = df_ratings.pivot(index='movieId', columns='userId', values='rating')\n",
    "# movies_users()\n",
    "mat_movies_users = csr_matrix(movies_users.fillna(0).values) # fill NaN values with 0 and then create csr matrix"
   ]
  },
  {
   "cell_type": "code",
   "execution_count": 15,
   "id": "7bae04e1",
   "metadata": {},
   "outputs": [
    {
     "data": {
      "text/html": [
       "<style>#sk-container-id-3 {color: black;background-color: white;}#sk-container-id-3 pre{padding: 0;}#sk-container-id-3 div.sk-toggleable {background-color: white;}#sk-container-id-3 label.sk-toggleable__label {cursor: pointer;display: block;width: 100%;margin-bottom: 0;padding: 0.3em;box-sizing: border-box;text-align: center;}#sk-container-id-3 label.sk-toggleable__label-arrow:before {content: \"▸\";float: left;margin-right: 0.25em;color: #696969;}#sk-container-id-3 label.sk-toggleable__label-arrow:hover:before {color: black;}#sk-container-id-3 div.sk-estimator:hover label.sk-toggleable__label-arrow:before {color: black;}#sk-container-id-3 div.sk-toggleable__content {max-height: 0;max-width: 0;overflow: hidden;text-align: left;background-color: #f0f8ff;}#sk-container-id-3 div.sk-toggleable__content pre {margin: 0.2em;color: black;border-radius: 0.25em;background-color: #f0f8ff;}#sk-container-id-3 input.sk-toggleable__control:checked~div.sk-toggleable__content {max-height: 200px;max-width: 100%;overflow: auto;}#sk-container-id-3 input.sk-toggleable__control:checked~label.sk-toggleable__label-arrow:before {content: \"▾\";}#sk-container-id-3 div.sk-estimator input.sk-toggleable__control:checked~label.sk-toggleable__label {background-color: #d4ebff;}#sk-container-id-3 div.sk-label input.sk-toggleable__control:checked~label.sk-toggleable__label {background-color: #d4ebff;}#sk-container-id-3 input.sk-hidden--visually {border: 0;clip: rect(1px 1px 1px 1px);clip: rect(1px, 1px, 1px, 1px);height: 1px;margin: -1px;overflow: hidden;padding: 0;position: absolute;width: 1px;}#sk-container-id-3 div.sk-estimator {font-family: monospace;background-color: #f0f8ff;border: 1px dotted black;border-radius: 0.25em;box-sizing: border-box;margin-bottom: 0.5em;}#sk-container-id-3 div.sk-estimator:hover {background-color: #d4ebff;}#sk-container-id-3 div.sk-parallel-item::after {content: \"\";width: 100%;border-bottom: 1px solid gray;flex-grow: 1;}#sk-container-id-3 div.sk-label:hover label.sk-toggleable__label {background-color: #d4ebff;}#sk-container-id-3 div.sk-serial::before {content: \"\";position: absolute;border-left: 1px solid gray;box-sizing: border-box;top: 0;bottom: 0;left: 50%;z-index: 0;}#sk-container-id-3 div.sk-serial {display: flex;flex-direction: column;align-items: center;background-color: white;padding-right: 0.2em;padding-left: 0.2em;position: relative;}#sk-container-id-3 div.sk-item {position: relative;z-index: 1;}#sk-container-id-3 div.sk-parallel {display: flex;align-items: stretch;justify-content: center;background-color: white;position: relative;}#sk-container-id-3 div.sk-item::before, #sk-container-id-3 div.sk-parallel-item::before {content: \"\";position: absolute;border-left: 1px solid gray;box-sizing: border-box;top: 0;bottom: 0;left: 50%;z-index: -1;}#sk-container-id-3 div.sk-parallel-item {display: flex;flex-direction: column;z-index: 1;position: relative;background-color: white;}#sk-container-id-3 div.sk-parallel-item:first-child::after {align-self: flex-end;width: 50%;}#sk-container-id-3 div.sk-parallel-item:last-child::after {align-self: flex-start;width: 50%;}#sk-container-id-3 div.sk-parallel-item:only-child::after {width: 0;}#sk-container-id-3 div.sk-dashed-wrapped {border: 1px dashed gray;margin: 0 0.4em 0.5em 0.4em;box-sizing: border-box;padding-bottom: 0.4em;background-color: white;}#sk-container-id-3 div.sk-label label {font-family: monospace;font-weight: bold;display: inline-block;line-height: 1.2em;}#sk-container-id-3 div.sk-label-container {text-align: center;}#sk-container-id-3 div.sk-container {/* jupyter's `normalize.less` sets `[hidden] { display: none; }` but bootstrap.min.css set `[hidden] { display: none !important; }` so we also need the `!important` here to be able to override the default hidden behavior on the sphinx rendered scikit-learn.org. See: https://github.com/scikit-learn/scikit-learn/issues/21755 */display: inline-block !important;position: relative;}#sk-container-id-3 div.sk-text-repr-fallback {display: none;}</style><div id=\"sk-container-id-3\" class=\"sk-top-container\"><div class=\"sk-text-repr-fallback\"><pre>NearestNeighbors(algorithm=&#x27;brute&#x27;, metric=&#x27;cosine&#x27;, n_neighbors=40)</pre><b>In a Jupyter environment, please rerun this cell to show the HTML representation or trust the notebook. <br />On GitHub, the HTML representation is unable to render, please try loading this page with nbviewer.org.</b></div><div class=\"sk-container\" hidden><div class=\"sk-item\"><div class=\"sk-estimator sk-toggleable\"><input class=\"sk-toggleable__control sk-hidden--visually\" id=\"sk-estimator-id-3\" type=\"checkbox\" checked><label for=\"sk-estimator-id-3\" class=\"sk-toggleable__label sk-toggleable__label-arrow\">NearestNeighbors</label><div class=\"sk-toggleable__content\"><pre>NearestNeighbors(algorithm=&#x27;brute&#x27;, metric=&#x27;cosine&#x27;, n_neighbors=40)</pre></div></div></div></div></div>"
      ],
      "text/plain": [
       "NearestNeighbors(algorithm='brute', metric='cosine', n_neighbors=40)"
      ]
     },
     "execution_count": 15,
     "metadata": {},
     "output_type": "execute_result"
    }
   ],
   "source": [
    "model_knn = NearestNeighbors(metric='cosine', algorithm='brute', n_neighbors=40)\n",
    "model_knn.fit(mat_movies_users)"
   ]
  },
  {
   "cell_type": "code",
   "execution_count": 18,
   "id": "fd32e3cd",
   "metadata": {},
   "outputs": [
    {
     "name": "stdout",
     "output_type": "stream",
     "text": [
      "Movie Selected: Home Alone (1990) Index:  504\n",
      "Searching for recommendations...\n",
      "504                                           NaN\n",
      "436                         Mrs. Doubtfire (1993)\n",
      "322                         Lion King, The (1994)\n",
      "514                           Pretty Woman (1990)\n",
      "418                          Jurassic Park (1993)\n",
      "1                                  Jumanji (1995)\n",
      "334                                  Speed (1994)\n",
      "314                           Forrest Gump (1994)\n",
      "506                                Aladdin (1992)\n",
      "325                              Mask, The (1994)\n",
      "1575                        Outsiders, The (1983)\n",
      "337                              True Lies (1994)\n",
      "512                   Beauty and the Beast (1991)\n",
      "509                                 Batman (1989)\n",
      "505                                  Ghost (1990)\n",
      "507             Terminator 2: Judgment Day (1991)\n",
      "5150                           Used People (1992)\n",
      "1182                                  Fall (1997)\n",
      "123                              Apollo 13 (1995)\n",
      "9                                GoldenEye (1995)\n",
      "472                   Sleepless in Seattle (1993)\n",
      "1485                            Metropolis (1927)\n",
      "32                                    Babe (1995)\n",
      "2940                            Bamboozled (2000)\n",
      "138             Die Hard: With a Vengeance (1995)\n",
      "483        Nightmare Before Christmas, The (1993)\n",
      "302             Ace Ventura: Pet Detective (1994)\n",
      "510              Silence of the Lambs, The (1991)\n",
      "197        Dumb & Dumber (Dumb and Dumber) (1994)\n",
      "968                   Arsenic and Old Lace (1944)\n",
      "3189    Rififi (Du rififi chez les hommes) (1955)\n",
      "3569                              One, The (2001)\n",
      "1266           Mortal Kombat: Annihilation (1997)\n",
      "1486            Back to the Future Part II (1989)\n",
      "3814                                 Lenny (1974)\n",
      "511        Snow White and the Seven Dwarfs (1937)\n",
      "622                   Nutty Professor, The (1996)\n",
      "398                          Fugitive, The (1993)\n",
      "1544                    Lady and the Tramp (1955)\n",
      "1978                  Black Mask (Hak hap) (1996)\n",
      "Name: title, dtype: object\n"
     ]
    }
   ],
   "source": [
    "#Recommender(movie_name) => List of Movies recommended to me\n",
    "def recommender(movie_name, data, model, n_recommendations):\n",
    "    model.fit(data)\n",
    "    idx = process.extractOne(movie_name, df_movies['title'])[2]\n",
    "    print('Movie Selected:', df_movies['title'][idx], 'Index: ', idx)\n",
    "    print('Searching for recommendations...')\n",
    "    distances, indices = model.kneighbors(data[idx], n_neighbors=n_recommendations)\n",
    "    for i in indices:\n",
    "        print(df_movies['title'][i].where(i!=idx))\n",
    "        \n",
    "recommender('Home Alone', mat_movies_users , model_knn , 40)\n"
   ]
  },
  {
   "cell_type": "code",
   "execution_count": null,
   "id": "04b21efe",
   "metadata": {},
   "outputs": [],
   "source": []
  },
  {
   "cell_type": "code",
   "execution_count": null,
   "id": "4f55718f",
   "metadata": {},
   "outputs": [],
   "source": []
  }
 ],
 "metadata": {
  "kernelspec": {
   "display_name": "Python 3 (ipykernel)",
   "language": "python",
   "name": "python3"
  },
  "language_info": {
   "codemirror_mode": {
    "name": "ipython",
    "version": 3
   },
   "file_extension": ".py",
   "mimetype": "text/x-python",
   "name": "python",
   "nbconvert_exporter": "python",
   "pygments_lexer": "ipython3",
   "version": "3.10.9"
  }
 },
 "nbformat": 4,
 "nbformat_minor": 5
}
